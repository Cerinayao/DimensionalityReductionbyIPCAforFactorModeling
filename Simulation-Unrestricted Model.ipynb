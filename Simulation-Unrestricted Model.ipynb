{
 "cells": [
  {
   "cell_type": "code",
   "execution_count": 36,
   "id": "41fa584e",
   "metadata": {},
   "outputs": [
    {
     "data": {
      "text/plain": [
       "(37, 5)"
      ]
     },
     "execution_count": 36,
     "metadata": {},
     "output_type": "execute_result"
    }
   ],
   "source": [
    "import h5py\n",
    "import numpy as np\n",
    "from scipy.stats import ortho_group\n",
    "from scipy.sparse import csc_matrix, diags\n",
    "from scipy.sparse.linalg import svds\n",
    "import matplotlib.pyplot as plt\n",
    "mat = h5py.File('IPCADATA_FNW36_RNKDMN_CON.mat')\n",
    "mat_t = np.transpose(mat['X'])\n",
    "np.save('test.npy', mat_t)\n",
    "X= np.load('test.npy')\n",
    "W= np.transpose(mat['W'])\n",
    "np.save('test.npy', W)\n",
    "W= np.load('test.npy')\n",
    "Nts= np.transpose(mat['Nts'])\n",
    "np.save('test.npy', Nts)\n",
    "Gamma_Old,s,v=svds(X, k=5)\n",
    "Gamma_Old.shape"
   ]
  },
  {
   "cell_type": "code",
   "execution_count": 37,
   "id": "0185c82c",
   "metadata": {
    "code_folding": []
   },
   "outputs": [],
   "source": [
    " def num_IPCA_estimate_ALS(Gamma_Old , W , X , Nts):\n",
    "    import matlab.engine\n",
    "    eng = matlab.engine.start_matlab()\n",
    "\n",
    "    F_New =[]\n",
    "    for t in range(599):\n",
    "        #a=np.linalg.inv(Gamma_Old.T@W[:,:,t]@Gamma_Old)@( Gamma_Old.T@X[:,t])\n",
    "        a=Gamma_Old.T@W[:,:,t]@Gamma_Old\n",
    "        b=Gamma_Old.T@X[:,t]\n",
    "        n=np.linalg.lstsq(a,b,rcond=None)[0]\n",
    "        F_New.append(n)\n",
    "    F_New=np.matrix(F_New).T\n",
    "    L=37\n",
    "    K=5\n",
    "    Ktilde = K\n",
    "    Denom = np.zeros(L*Ktilde)\n",
    "    Numer = np.zeros((L*Ktilde,1))\n",
    "    Nts=np.concatenate(Nts.reshape(1,-1).T)\n",
    "    for t in range(599):\n",
    "        Numer = Numer + (np.kron( X[:,1] , F_New[:,1].T )*Nts[1]).T\n",
    "        Denom = Denom + np.kron(W[:,:,t], F_New[:,t]@F_New[:,t].transpose())*Nts[t]  \n",
    "    Gamma_New_trans_vec=np.linalg.inv(Denom)@Numer\n",
    "    Gamma_New_trans     = np.reshape(Gamma_New_trans_vec,(Ktilde,L))\n",
    "    Gamma_New           = Gamma_New_trans.T\n",
    "    F_New.shape        \n",
    "    \n",
    "    R1                  = eng.chol(Gamma_New.T@Gamma_New,'upper')\n",
    "    np.save('test.npy', R1)\n",
    "    R1= np.load('test.npy')\n",
    "    R2,_,_            = np.linalg.svd(R1@F_New@F_New.T@R1.T)\n",
    "\n",
    "    Gamma_New =Gamma_New@np.linalg.inv(R1)@R2\n",
    "    A=R1@F_New\n",
    "    x=np.linalg.lstsq(R2,A)\n",
    "    m=x[0]\n",
    "    F_New=np.array(m)\n",
    "    \n",
    "    return Gamma_New,F_New "
   ]
  },
  {
   "cell_type": "code",
   "execution_count": 38,
   "id": "fd2d0130",
   "metadata": {},
   "outputs": [
    {
     "name": "stderr",
     "output_type": "stream",
     "text": [
      "/var/folders/wp/90sg7791331gjh98thrw3ryh0000gn/T/ipykernel_73467/1014158823.py:34: FutureWarning: `rcond` parameter will change to the default of machine precision times ``max(M, N)`` where M and N are the input matrix dimensions.\n",
      "To use the future default and silence this warning we advise to pass `rcond=None`, to keep using the old, explicitly pass `rcond=-1`.\n",
      "  x=np.linalg.lstsq(R2,A)\n"
     ]
    }
   ],
   "source": [
    "GB_New,F_New=num_IPCA_estimate_ALS(Gamma_Old , W , X , Nts)\n"
   ]
  },
  {
   "cell_type": "code",
   "execution_count": 39,
   "id": "501ba284",
   "metadata": {
    "code_folding": []
   },
   "outputs": [
    {
     "name": "stderr",
     "output_type": "stream",
     "text": [
      "/var/folders/wp/90sg7791331gjh98thrw3ryh0000gn/T/ipykernel_73467/1014158823.py:34: FutureWarning: `rcond` parameter will change to the default of machine precision times ``max(M, N)`` where M and N are the input matrix dimensions.\n",
      "To use the future default and silence this warning we advise to pass `rcond=None`, to keep using the old, explicitly pass `rcond=-1`.\n",
      "  x=np.linalg.lstsq(R2,A)\n"
     ]
    }
   ],
   "source": [
    "tol         = 1\n",
    "iters        = 0\n",
    "F_Old       = np.ones((5,599))\n",
    "while iters<=10 and tol>1e-6:\n",
    "    GB_New,F_New = num_IPCA_estimate_ALS(Gamma_Old,W,X,Nts)\n",
    "    tol     = max(abs(GB_New-Gamma_Old).max(),abs(F_New-F_Old).max())\n",
    "    F_Old   = F_New\n",
    "    GB_Old  = GB_New\n",
    "    iters   = iters+1\n",
    "GB_GB= GB_New\n",
    "GB_F = F_New\n"
   ]
  },
  {
   "cell_type": "code",
   "execution_count": 40,
   "id": "b557a495",
   "metadata": {},
   "outputs": [],
   "source": [
    "GB=np.concatenate((np.zeros((37,1), dtype=int), GB_GB), axis=1)\n"
   ]
  },
  {
   "cell_type": "code",
   "execution_count": 41,
   "id": "471045ff",
   "metadata": {},
   "outputs": [
    {
     "name": "stderr",
     "output_type": "stream",
     "text": [
      "/var/folders/wp/90sg7791331gjh98thrw3ryh0000gn/T/ipykernel_73467/1014158823.py:34: FutureWarning: `rcond` parameter will change to the default of machine precision times ``max(M, N)`` where M and N are the input matrix dimensions.\n",
      "To use the future default and silence this warning we advise to pass `rcond=None`, to keep using the old, explicitly pass `rcond=-1`.\n",
      "  x=np.linalg.lstsq(R2,A)\n"
     ]
    },
    {
     "data": {
      "text/plain": [
       "(37, 5)"
      ]
     },
     "execution_count": 41,
     "metadata": {},
     "output_type": "execute_result"
    }
   ],
   "source": [
    "GB_Old      = GB\n",
    "F_Old       = GB_F\n",
    "tol         = 1\n",
    "iters        = 0\n",
    "while iters<=10 and tol>1e-6:\n",
    "    GB_New,F_New = num_IPCA_estimate_ALS(Gamma_Old,W,X,Nts)\n",
    "    tol     = max(abs(GB_New-Gamma_Old).max(),abs(F_New-F_Old).max())\n",
    "    F_Old   = F_New\n",
    "    GB_Old  = GB_New\n",
    "    iters   = iters+1\n",
    "GBGA_GB      = GB_New[:,0:5]\n",
    "GBGA_GA      = GB_New[:,-1]\n",
    "GBGA_F       = F_New\n",
    "GBGA_GB.shape"
   ]
  },
  {
   "cell_type": "code",
   "execution_count": 42,
   "id": "1304545f",
   "metadata": {},
   "outputs": [],
   "source": [
    "vb=[]\n",
    "for i in range(599):\n",
    "    vb.append(np.random.normal(0,1,1))\n",
    "vb=np.array(vb) \n",
    "\n",
    "va=[]\n",
    "for i in range(599):\n",
    "    va.append(np.random.normal(0,1,1))\n",
    "va=np.array(va) \n",
    "\n",
    "\n",
    "f=[]\n",
    "for i in range(5):\n",
    "    f.append(np.random.normal(0,1,1))\n",
    "f=np.array(f)\n",
    "\n",
    "e=[]\n",
    "for i in range(599):\n",
    "    e.append(np.random.normal(0,1,1))\n",
    "e=np.array(e)\n",
    "\n",
    "Z=[]\n",
    "for i in range(599):\n",
    "    Z.append(np.random.normal(0,1,37))\n",
    "Z=np.array(Z) \n",
    "\n",
    "\n",
    "beta=vb+Z@GBGA_GB\n",
    "alpha=va+Z@GBGA_GA\n",
    "\n",
    "r=alpha+beta@f+e\n"
   ]
  },
  {
   "cell_type": "code",
   "execution_count": 43,
   "id": "4bf2206a",
   "metadata": {},
   "outputs": [
    {
     "data": {
      "text/plain": [
       "(37, 599)"
      ]
     },
     "execution_count": 43,
     "metadata": {},
     "output_type": "execute_result"
    }
   ],
   "source": [
    "Z=[]\n",
    "X=[]\n",
    "for i in range(599):\n",
    "    Z.append(np.random.normal(0,1,37))\n",
    "    x=Z[i].reshape(1,-1).reshape(1,-1)\n",
    "    X.append(x)\n",
    "Z=np.array(Z) \n",
    "X=np.array(X)\n",
    "\n",
    "X=X.reshape(37,599)\n",
    "X.shape"
   ]
  },
  {
   "cell_type": "markdown",
   "id": "29bf7023",
   "metadata": {},
   "source": [
    "\n",
    "### simulation  to get gammabeta hat and gammaalpha hat"
   ]
  },
  {
   "cell_type": "code",
   "execution_count": 44,
   "id": "8688fa37",
   "metadata": {},
   "outputs": [
    {
     "name": "stderr",
     "output_type": "stream",
     "text": [
      "/var/folders/wp/90sg7791331gjh98thrw3ryh0000gn/T/ipykernel_73467/1014158823.py:34: FutureWarning: `rcond` parameter will change to the default of machine precision times ``max(M, N)`` where M and N are the input matrix dimensions.\n",
      "To use the future default and silence this warning we advise to pass `rcond=None`, to keep using the old, explicitly pass `rcond=-1`.\n",
      "  x=np.linalg.lstsq(R2,A)\n"
     ]
    }
   ],
   "source": [
    "Gamma_Old,s,v=svds(X, k=5)\n",
    "GB_New,F_New=num_IPCA_estimate_ALS(Gamma_Old , W , X , Nts)\n",
    "tol         = 1\n",
    "iters        = 0\n",
    "F_Old       = np.ones((5,599))\n",
    "while iters<=10 and tol>1e-6:\n",
    "    GB_New,F_New = num_IPCA_estimate_ALS(Gamma_Old,W,X,Nts)\n",
    "    tol     = max(abs(GB_New-Gamma_Old).max(),abs(F_New-F_Old).max())\n",
    "    F_Old   = F_New\n",
    "    GB_Old  = GB_New\n",
    "    iters   = iters+1\n",
    "GB_GB= GB_New\n",
    "GB_F = F_New\n",
    "GB=np.concatenate((np.zeros((37,1), dtype=int), GB_GB), axis=1)\n",
    "GB_Old      = GB\n",
    "F_Old       = GB_F\n",
    "tol         = 1\n",
    "iters        = 0\n",
    "while iters<=10 and tol>1e-6:\n",
    "    GB_New,F_New = num_IPCA_estimate_ALS(Gamma_Old,W,X,Nts)\n",
    "    tol     = max(abs(GB_New-Gamma_Old).max(),abs(F_New-F_Old).max())\n",
    "    F_Old   = F_New\n",
    "    GB_Old  = GB_New\n",
    "    iters   = iters+1\n",
    "GBGA_GB      = GB_New[:,0:5]\n",
    "GBGA_GA      = GB_New[:,-1]\n",
    "GBGA_F       = F_New"
   ]
  },
  {
   "cell_type": "markdown",
   "id": "48a7052e",
   "metadata": {},
   "source": [
    "### find the estimated r with estimated gammabeta and gammaalpha"
   ]
  },
  {
   "cell_type": "code",
   "execution_count": 63,
   "id": "702ccc33",
   "metadata": {},
   "outputs": [
    {
     "data": {
      "text/plain": [
       "-0.6008226479634433"
      ]
     },
     "execution_count": 63,
     "metadata": {},
     "output_type": "execute_result"
    }
   ],
   "source": [
    "from numpy import matrix\n",
    "def sim():    \n",
    "    vb=[]\n",
    "    for i in range(599):\n",
    "        vb.append(np.random.normal(0,1,1))\n",
    "    vb=np.array(vb) \n",
    "\n",
    "    va=[]\n",
    "    for i in range(599):\n",
    "        va.append(np.random.normal(0,1,1))\n",
    "    va=np.array(va) \n",
    "\n",
    "    Z=[]\n",
    "    for i in range(599):\n",
    "        Z.append(np.random.normal(0,1,37))\n",
    "    Z=np.array(Z) \n",
    "    Z.shape\n",
    "\n",
    "    f=[]\n",
    "    for i in range(5):\n",
    "        f.append(np.random.normal(0,1,1))\n",
    "    f=np.array(f)\n",
    "\n",
    "    e=[]\n",
    "    for i in range(599):\n",
    "        e.append(np.random.normal(0,1,1))\n",
    "    e=np.array(e)\n",
    "\n",
    "    beta=vb+Z@GBGA_GB\n",
    "    alpha=va+Z@GBGA_GA\n",
    "\n",
    "    r_estimated=alpha+beta@f+e\n",
    "    rs=abs(r-r_estimated)\n",
    "    rd=abs(r-np.mean(r))\n",
    "    sum_squared_regression = sum(num ** 2 for num in rs)\n",
    "    total_sum_of_squares = sum(num ** 2 for num in rd)\n",
    "    total_sum_of_squares\n",
    "    r_squared=1-sum_squared_regression/total_sum_of_squares \n",
    "    l=float(r_squared)\n",
    "    return l\n",
    "sim()"
   ]
  },
  {
   "cell_type": "markdown",
   "id": "aa52f243",
   "metadata": {},
   "source": [
    "### R_squared metrics calculation:\n",
    "the authors' code calculated the predicted r_squared of pred_GammaBeta to be 0.69%"
   ]
  },
  {
   "cell_type": "code",
   "execution_count": 66,
   "id": "e52d86d2",
   "metadata": {},
   "outputs": [
    {
     "data": {
      "text/plain": [
       "[<matplotlib.lines.Line2D at 0x7fe8f96b7670>]"
      ]
     },
     "execution_count": 66,
     "metadata": {},
     "output_type": "execute_result"
    },
    {
     "data": {
      "image/png": "[encoded data removed]",
      "text/plain": [
       "<Figure size 432x288 with 1 Axes>"
      ]
     },
     "metadata": {
      "needs_background": "light"
     },
     "output_type": "display_data"
    }
   ],
   "source": [
    "num_simulations = 1000\n",
    "balance =list(range(1000))\n",
    "num_rolls =list(range(1000))\n",
    "\n",
    "for i in range(num_simulations):\n",
    " \n",
    "    balance[i]=sim()\n",
    "    num_rolls[i]=i+1\n",
    "    \n",
    "fig = plt.figure()\n",
    "\n",
    "plt.xlabel(\"Sim Number\")\n",
    "plt.ylabel(\"Resqured\")\n",
    "plt.plot(num_rolls, balance)\n",
    " \n",
    "   "
   ]
  },
  {
   "cell_type": "code",
   "execution_count": null,
   "id": "5fda5227",
   "metadata": {},
   "outputs": [],
   "source": []
  }
 ],
 "metadata": {
  "kernelspec": {
   "display_name": "Python 3 (ipykernel)",
   "language": "python",
   "name": "python3"
  },
  "language_info": {
   "codemirror_mode": {
    "name": "ipython",
    "version": 3
   },
   "file_extension": ".py",
   "mimetype": "text/x-python",
   "name": "python",
   "nbconvert_exporter": "python",
   "pygments_lexer": "ipython3",
   "version": "3.9.7"
  }
 },
 "nbformat": 4,
 "nbformat_minor": 5
}
